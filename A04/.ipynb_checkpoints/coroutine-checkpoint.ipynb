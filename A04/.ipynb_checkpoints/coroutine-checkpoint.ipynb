{
 "cells": [
  {
   "cell_type": "code",
   "execution_count": null,
   "metadata": {},
   "outputs": [],
   "source": [
    "# Pour utiliser asyncio dans un notebook\n",
    "import nest_asyncio\n",
    "nest_asyncio.apply()"
   ]
  },
  {
   "cell_type": "markdown",
   "metadata": {},
   "source": [
    "# Coroutines\n",
    "Les coroutines déclarées avec la syntaxe async/await sont la manière privilégiée d’écrire des applications asyncio. Par exemple, l’extrait de code suivant (requiert Python 3.7+) affiche « hello », attend 1 seconde et affiche ensuite « world » :"
   ]
  },
  {
   "cell_type": "code",
   "execution_count": null,
   "metadata": {},
   "outputs": [],
   "source": [
    "# un exemple de coroutine \n",
    "import asyncio\n",
    "\n",
    "async def hello_world():\n",
    "    await asyncio.sleep(0.2)\n",
    "    print(\"Hello World\")"
   ]
  },
  {
   "cell_type": "code",
   "execution_count": null,
   "metadata": {},
   "outputs": [],
   "source": [
    "asyncio.run(hello_world())"
   ]
  },
  {
   "cell_type": "markdown",
   "metadata": {},
   "source": [
    "Pour réellement exécuter une coroutine, asyncio fournit trois mécanismes principaux :\n",
    "\n",
    "* La fonction asyncio.run() pour exécuter la fonction « main() »\n",
    "* Attendre une coroutine. Le morceau de code suivant attend deux seconde, affiche « hello », attend 3 secondes supplémentaires, puis affiche enfin « world » :"
   ]
  },
  {
   "cell_type": "code",
   "execution_count": null,
   "metadata": {},
   "outputs": [],
   "source": [
    "import asyncio\n",
    "import time\n",
    "\n",
    "async def say_after(delay, what):\n",
    "    await asyncio.sleep(delay)\n",
    "    print(what)\n",
    "\n",
    "async def main_seq():\n",
    "    print(f\"started at {time.strftime('%X')}\")\n",
    "\n",
    "    await say_after(2, 'hello')\n",
    "    await say_after(3, 'world')\n",
    "\n",
    "    print(f\"finished at {time.strftime('%X')}\")\n",
    "\n",
    "asyncio.run(main_seq())\n"
   ]
  },
  {
   "cell_type": "markdown",
   "metadata": {},
   "source": [
    "La fonction `asyncio.create_task()` pour exécuter de manière concurrente des coroutines en tant que tâches asyncio."
   ]
  },
  {
   "cell_type": "code",
   "execution_count": null,
   "metadata": {},
   "outputs": [],
   "source": [
    "async def main_para():\n",
    "    task1 = asyncio.create_task(\n",
    "        say_after(2, 'hello'))\n",
    "\n",
    "    task2 = asyncio.create_task(\n",
    "        say_after(3, 'world'))\n",
    "\n",
    "    print(f\"started at {time.strftime('%X')}\")\n",
    "\n",
    "    # Wait until both tasks are completed (should take\n",
    "    # around 3 seconds.)\n",
    "    await task1\n",
    "    await task2\n",
    "\n",
    "    print(f\"finished at {time.strftime('%X')}\")\n",
    "   \n",
    "asyncio.run(main_para())\n",
    "\n"
   ]
  },
  {
   "cell_type": "markdown",
   "metadata": {},
   "source": [
    "# Attendables\n",
    "Un objet est dit attendable (awaitable en anglais, c.-à-d. qui peut être attendu) s'il peut être utilisé dans une expression await. Beaucoup d'API d'asyncio sont conçues pour accepter des attendables.\n",
    "\n",
    "Je décrit deux types d'attendables :\n",
    " \n",
    "1. les coroutines, \n",
    "2. les tâches"
   ]
  },
  {
   "cell_type": "markdown",
   "metadata": {},
   "source": [
    "## Coroutines\n",
    "\n",
    "Les coroutines sont des awaitables et peuvent donc être attendues par d'autres coroutines :"
   ]
  },
  {
   "cell_type": "code",
   "execution_count": 7,
   "metadata": {},
   "outputs": [
    {
     "name": "stdout",
     "output_type": "stream",
     "text": [
      "42\n"
     ]
    }
   ],
   "source": [
    "import asyncio\n",
    "\n",
    "async def nested():\n",
    "    return 42\n",
    "\n",
    "async def main_n():\n",
    "    # Nothing happens if we just call \"nested()\".\n",
    "    # A coroutine object is created but not awaited,\n",
    "    # so it *won't run at all*.\n",
    "    nested()\n",
    "\n",
    "    # Let's do it differently now and await it:\n",
    "    print(await nested())  # will print \"42\".\n",
    "\n",
    "asyncio.run(main_n())"
   ]
  },
  {
   "cell_type": "markdown",
   "metadata": {},
   "source": [
    "Important Dans ce notebook, le terme « coroutine » est utilisé pour désigner deux concepts voisins :\n",
    "\n",
    "* **une fonction coroutine** : une fonction `async def` ;\n",
    "* **un objet coroutine** : un objet renvoyé par une fonction coroutine."
   ]
  },
  {
   "cell_type": "markdown",
   "metadata": {},
   "source": [
    "# Tâches\n",
    "\n",
    "Les tâches servent à planifier des coroutines de façon à ce qu'elles s'exécutent de manière concurrente.\n",
    "\n",
    "Lorsqu'une coroutine est encapsulée dans une tâche à l'aide de fonctions comme `asyncio.create_task()`, la coroutine est automatiquement planifiée pour s'exécuter prochainement :"
   ]
  },
  {
   "cell_type": "code",
   "execution_count": 10,
   "metadata": {},
   "outputs": [
    {
     "data": {
      "text/plain": [
       "42"
      ]
     },
     "execution_count": 10,
     "metadata": {},
     "output_type": "execute_result"
    }
   ],
   "source": [
    "import asyncio\n",
    "\n",
    "async def nested():\n",
    "    return 42\n",
    "\n",
    "async def main_t():\n",
    "    # Schedule nested() to run soon concurrently\n",
    "    # with \"main()\".\n",
    "    task = asyncio.create_task(nested())\n",
    "\n",
    "    # \"task\" can now be used to cancel \"nested()\", or\n",
    "    # can simply be awaited to wait until it is complete:\n",
    "    await task\n",
    "    #    \n",
    "    return task.result()\n",
    "\n",
    "asyncio.run(main_t())"
   ]
  },
  {
   "cell_type": "markdown",
   "metadata": {},
   "source": [
    "## Création de tâches\n",
    "\n",
    "`asyncio.create_task(coro, *, name=None)`\n",
    "\n",
    "Encapsule la coroutine coro dans une tâche et la planifie pour exécution. Renvoie l'objet Task.\n",
    "\n",
    "Si name n’est pas None, il est défini comme le nom de la tâche en utilisant `Task.set_name()`."
   ]
  },
  {
   "cell_type": "markdown",
   "metadata": {},
   "source": [
    "# Exécution de tâches de manière concurrente\n",
    "\n",
    "`coroutine asyncio.wait(aws, *, loop=None, timeout=None, return_when=ALL_COMPLETED)`\n",
    "\n",
    "Exécutez les objets Waitable dans le aws iterable simultanément et bloquez jusqu'à la condition spécifiée par return_when.\n",
    "\n",
    "Renvoie deux ensembles de Tasks : (done, pending).\n",
    "\n",
    "Utilisation :\n",
    "\n",
    "done, pending = await asyncio.wait(aws)\n",
    "\n",
    "timeout (entier ou décimal), si précisé, peut-être utilisé pour contrôler le nombre maximal de secondes d'attente avant de se terminer.\n",
    "\n",
    "Cette fonction ne lève pas asyncio.TimeoutError. Les futurs et les tâches qui ne sont pas finis quand le délai d'attente maximal est dépassé sont tout simplement renvoyés dans le second ensemble.\n",
    "\n",
    "return_when indique quand la fonction doit se terminer. Il peut prendre les valeurs suivantes :\n",
    "\n",
    "* FIRST_COMPLETED : La fonction se termine lorsque n'importe quel futur se termine ou est annulé.\n",
    "* FIRST_EXCEPTION : La fonction se termine lorsque n'importe quel futur se termine en levant une exception. Si aucun futur ne lève d'exception, équivaut à ALL_COMPLETED.\n",
    "* ALL_COMPLETED : La fonction se termine lorsque les futurs sont tous finis ou annulés.\n",
    "\n",
    "À la différence de wait_for(), wait() n'annule pas les futurs quand le délai d'attente est dépassé.\n"
   ]
  },
  {
   "cell_type": "code",
   "execution_count": null,
   "metadata": {},
   "outputs": [],
   "source": [
    "async def main_para2():\n",
    "    task1 = asyncio.create_task(\n",
    "        say_after(2, 'hello'))\n",
    "\n",
    "    task2 = asyncio.create_task(\n",
    "        say_after(3, 'world'))\n",
    "\n",
    "    print(f\"started at {time.strftime('%X')}\")\n",
    "\n",
    "    # Wait until both tasks are completed (should take\n",
    "    # around 3 seconds.)\n",
    "    done, pending = asyncio.wait(task1, task2, return_when=asyncio.ALL_COMPLETED)\n",
    "\n",
    "    print(f\"finished at {time.strftime('%X')}\")\n",
    "    print(done, pending)\n",
    "   \n",
    "asyncio.run(main_para2())"
   ]
  },
  {
   "cell_type": "markdown",
   "metadata": {},
   "source": [
    "## Variante : Callback de fin de tache\n",
    "\n",
    "`add_done_callback(callback, *, context=None)`\n",
    "\n",
    "Ajoute une fonction de rappel qui sera exécutée quand la tâche sera achevée.\n",
    "\n",
    "Cette méthode ne doit être utilisée que dans du code basé sur les fonctions de rappel de bas-niveau.\n",
    "\n",
    "Se référer à la documentation de Future.add_done_callback() pour plus de détails."
   ]
  },
  {
   "cell_type": "code",
   "execution_count": null,
   "metadata": {},
   "outputs": [],
   "source": [
    "import asyncio\n",
    "\n",
    "# coroutine async def\n",
    "async def nested():\n",
    "    return 42\n",
    "\n",
    "def done(args):\n",
    "    print(\"Callback\", args)\n",
    "\n",
    "# creation d'une tache puis await ou run\n",
    "async def main_call():\n",
    "    # Schedule nested() to run soon concurrently\n",
    "    # with \"main()\".\n",
    "    task = asyncio.create_task(nested())\n",
    "    \n",
    "    task.add_done_callback(done)\n",
    "\n",
    "    # \"task\" can now be used to cancel \"nested()\", or\n",
    "    # can simply be awaited to wait until it is complete:\n",
    "    await task\n",
    "\n",
    "    print(task.result())\n",
    "\n",
    "asyncio.run(main_call())"
   ]
  }
 ],
 "metadata": {
  "kernelspec": {
   "display_name": "Python 3",
   "language": "python",
   "name": "python3"
  },
  "language_info": {
   "codemirror_mode": {
    "name": "ipython",
    "version": 3
   },
   "file_extension": ".py",
   "mimetype": "text/x-python",
   "name": "python",
   "nbconvert_exporter": "python",
   "pygments_lexer": "ipython3",
   "version": "3.8.7"
  }
 },
 "nbformat": 4,
 "nbformat_minor": 4
}
