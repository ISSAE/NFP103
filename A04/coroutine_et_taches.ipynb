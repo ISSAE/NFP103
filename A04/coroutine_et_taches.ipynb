{
 "metadata": {
  "language_info": {
   "codemirror_mode": {
    "name": "ipython",
    "version": 3
   },
   "file_extension": ".py",
   "mimetype": "text/x-python",
   "name": "python",
   "nbconvert_exporter": "python",
   "pygments_lexer": "ipython3",
   "version": "3.9.0-final"
  },
  "orig_nbformat": 2,
  "kernelspec": {
   "name": "python38132bitf55415091bd5435699142722e9aa291a",
   "display_name": "Python 3.8.1 32-bit",
   "language": "python"
  }
 },
 "nbformat": 4,
 "nbformat_minor": 2,
 "cells": [
  {
   "source": [
    "# Coroutines et tâches\n",
    "Cette séance donne un aperçu des API de haut-niveau du module asyncio pour utiliser les coroutines et les tâches.\n",
    "\n",
    "## Coroutines\n",
    "Les coroutines déclarées avec la syntaxe async/await sont la manière privilégiée d’écrire des applications asyncio. Par exemple, l’extrait de code suivant (requiert Python 3.7+) affiche « hello », attend 1 seconde et affiche ensuite « world » :"
   ],
   "cell_type": "markdown",
   "metadata": {}
  },
  {
   "cell_type": "code",
   "execution_count": 5,
   "metadata": {},
   "outputs": [],
   "source": [
    "import nest_asyncio\n",
    "import asyncio"
   ]
  },
  {
   "cell_type": "code",
   "execution_count": 4,
   "metadata": {},
   "outputs": [
    {
     "output_type": "stream",
     "name": "stdout",
     "text": [
      "hello\n",
      "world\n"
     ]
    }
   ],
   "source": [
    "import asyncio\n",
    "\n",
    "async def main():\n",
    "     print('hello')\n",
    "     await asyncio.sleep(1)\n",
    "     print('world')\n",
    "\n",
    "asyncio.run(main())"
   ]
  },
  {
   "cell_type": "code",
   "execution_count": null,
   "metadata": {},
   "outputs": [],
   "source": []
  }
 ]
}