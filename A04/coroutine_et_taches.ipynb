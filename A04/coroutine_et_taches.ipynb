{
 "metadata": {
  "language_info": {
   "codemirror_mode": {
    "name": "ipython",
    "version": 3
   },
   "file_extension": ".py",
   "mimetype": "text/x-python",
   "name": "python",
   "nbconvert_exporter": "python",
   "pygments_lexer": "ipython3",
   "version": "3.9.0-final"
  },
  "orig_nbformat": 2,
  "kernelspec": {
   "name": "python38132bitf55415091bd5435699142722e9aa291a",
   "display_name": "Python 3.8.1 32-bit",
   "language": "python"
  }
 },
 "nbformat": 4,
 "nbformat_minor": 2,
 "cells": [
  {
   "cell_type": "code",
   "execution_count": 8,
   "metadata": {},
   "outputs": [],
   "source": [
    "# cette cellule pour l'execution dans un notebook jupyter\n",
    "import nest_asyncio\n",
    "import asyncio"
   ]
  },
  {
   "source": [
    "# Coroutines et tâches\n",
    "Cette séance donne un aperçu des API de haut-niveau du module asyncio pour utiliser les coroutines et les tâches nouvelle notions à partir de Python 3.7.\n",
    "\n",
    "## Coroutines\n",
    "Les coroutines déclarées avec la syntaxe async/await sont la manière privilégiée d’écrire des applications asyncio. Par exemple, l’extrait de code suivant (requiert Python 3.7+) affiche « hello », attend 1 seconde et affiche ensuite « world » :"
   ],
   "cell_type": "markdown",
   "metadata": {}
  },
  {
   "cell_type": "code",
   "execution_count": 9,
   "metadata": {},
   "outputs": [],
   "source": [
    "import asyncio\n",
    "\n",
    "async def main():\n",
    "     print('hello')\n",
    "     await asyncio.sleep(1)\n",
    "     print('world')\n"
   ]
  },
  {
   "source": [
    "Faire `main()` appler la coroutine ne la planifie pas pour exécution :"
   ],
   "cell_type": "markdown",
   "metadata": {}
  },
  {
   "cell_type": "code",
   "execution_count": 10,
   "metadata": {},
   "outputs": [
    {
     "output_type": "execute_result",
     "data": {
      "text/plain": [
       "<coroutine object main at 0x000001A46200E0C0>"
      ]
     },
     "metadata": {},
     "execution_count": 10
    }
   ],
   "source": [
    "main()"
   ]
  },
  {
   "cell_type": "code",
   "execution_count": 11,
   "metadata": {},
   "outputs": [
    {
     "output_type": "stream",
     "name": "stdout",
     "text": [
      "hello\n",
      "world\n"
     ]
    }
   ],
   "source": [
    "# par contre faut la lancer (un peu comme le start des Thread)\n",
    "asyncio.run(main())"
   ]
  },
  {
   "source": [
    "Pour réellement exécuter une coroutine, asyncio fournit trois mécanismes principaux :\n",
    "\n",
    "1. La fonction `asyncio.run()` pour exécuter la fonction « main() », le point d'entrée de haut-niveau (voir l'exemple ci-dessus).\n",
    "\n",
    "2. Attendre une coroutine `await`. Le morceau de code suivant attend une seconde, affiche « hello », attend 2 secondes supplémentaires, puis affiche enfin « world » :"
   ],
   "cell_type": "markdown",
   "metadata": {}
  },
  {
   "cell_type": "code",
   "execution_count": 12,
   "metadata": {},
   "outputs": [
    {
     "output_type": "stream",
     "name": "stdout",
     "text": [
      "started at 20:30:47\n",
      "hello\n",
      "world\n",
      "finished at 20:30:50\n"
     ]
    }
   ],
   "source": [
    "import asyncio\n",
    "import time\n",
    "\n",
    "async def say_after(delay, what):\n",
    "    await asyncio.sleep(delay)\n",
    "    print(what)\n",
    "\n",
    "async def main():\n",
    "    print(f\"started at {time.strftime('%X')}\")\n",
    "\n",
    "    await say_after(1, 'hello') # ici await joue le role de l'activation de la coroutine say_after\n",
    "    await say_after(2, 'world')\n",
    "\n",
    "    print(f\"finished at {time.strftime('%X')}\")\n",
    "\n",
    "asyncio.run(main())"
   ]
  },
  {
   "source": [
    "3. La fonction `asyncio.create_task()` pour exécuter de manière concurrente des coroutines en tant que tâches asyncio."
   ],
   "cell_type": "markdown",
   "metadata": {}
  },
  {
   "cell_type": "code",
   "execution_count": 13,
   "metadata": {},
   "outputs": [],
   "source": [
    "async def main():\n",
    "    task1 = asyncio.create_task(\n",
    "        say_after(1, 'hello'))\n",
    "\n",
    "    task2 = asyncio.create_task(\n",
    "        say_after(2, 'world'))\n",
    "\n",
    "    print(f\"started at {time.strftime('%X')}\")\n",
    "\n",
    "    # Wait until both tasks are completed (should take\n",
    "    # around 2 seconds.)\n",
    "    await task1\n",
    "    await task2\n",
    "\n",
    "    print(f\"finished at {time.strftime('%X')}\")"
   ]
  },
  {
   "cell_type": "code",
   "execution_count": 14,
   "metadata": {},
   "outputs": [
    {
     "output_type": "stream",
     "name": "stdout",
     "text": [
      "started at 20:33:45\n",
      "hello\n",
      "world\n",
      "finished at 20:33:47\n"
     ]
    }
   ],
   "source": [
    "asyncio.run(main())"
   ]
  },
  {
   "source": [
    "*Comparer les temps des 2 dernier lancement de main*"
   ],
   "cell_type": "markdown",
   "metadata": {}
  },
  {
   "source": [
    "# Les awaitable (attendables)"
   ],
   "cell_type": "markdown",
   "metadata": {}
  },
  {
   "source": [
    "Un objet est dit attendable (awaitable en anglais, c.-à-d. qui peut être attendu) s'il peut être utilisé dans une expression await. Beaucoup d'API d'asyncio sont conçues pour accepter des attendables.\n",
    "\n",
    "Il existe trois types principaux d'attendables : \n",
    "* les coroutines, \n",
    "* les tâches (remplacement de Future a partir de la version 3.7)\n",
    "* et les futurs.\n",
    "\n",
    "```python\n",
    "#In Python 3.7+\n",
    "task = asyncio.create_task(coro())\n",
    "...\n",
    "# This works in all Python versions but is less readable\n",
    "task = asyncio.ensure_future(coro())\n",
    "...\n",
    "```\n"
   ],
   "cell_type": "markdown",
   "metadata": {}
  },
  {
   "source": [
    "### Tâche"
   ],
   "cell_type": "markdown",
   "metadata": {}
  },
  {
   "cell_type": "code",
   "execution_count": 20,
   "metadata": {},
   "outputs": [
    {
     "output_type": "stream",
     "name": "stdout",
     "text": [
      "Callback <Task finished name='Task-18' coro=<nested() done, defined at <ipython-input-20-78548a44dcd0>:4> result=42>\n42\n"
     ]
    }
   ],
   "source": [
    "\n",
    "import asyncio\n",
    "\n",
    "# coroutine async def\n",
    "async def nested():\n",
    "    return 42\n",
    "\n",
    "def done(args):\n",
    "    print(\"Callback\", args)\n",
    "\n",
    "# creation d'une tache puis await ou run\n",
    "async def main():\n",
    "    # Schedule nested() to run soon concurrently\n",
    "    # with \"main()\".\n",
    "    task = asyncio.create_task(nested())\n",
    "    \n",
    "    task.add_done_callback(done)\n",
    "\n",
    "    # \"task\" can now be used to cancel \"nested()\", or\n",
    "    # can simply be awaited to wait until it is complete:\n",
    "    await task\n",
    "\n",
    "    print(task.result())\n",
    "\n",
    "asyncio.run(main())"
   ]
  },
  {
   "cell_type": "code",
   "execution_count": null,
   "metadata": {},
   "outputs": [],
   "source": []
  }
 ]
}